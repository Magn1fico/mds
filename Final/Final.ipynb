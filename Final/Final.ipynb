{
 "cells": [
  {
   "cell_type": "markdown",
   "metadata": {},
   "source": [
    "## Итоговая работа."
   ]
  },
  {
   "cell_type": "markdown",
   "metadata": {},
   "source": [
    "### Задание 1\n",
    "### Дана матрица рейтингов фильмов (строки - пользователи (10 человек), столбцы - фильмы (15 фильмов))\n",
    "\n",
    "a) Необходимо найти наиболее похожего пользователя по косинусной метрике для каждого из (ответ: 10 пар вида (x, y), где y - наиболее похожий пользователь на пользователя x).\n",
    "\n",
    "b) Предположим, вы захотели сжать признаковые описания пользователя с 15 фильмов, до, скажем, 5-ти признаков, как вы это сделаете?"
   ]
  },
  {
   "cell_type": "code",
   "execution_count": 2,
   "metadata": {},
   "outputs": [],
   "source": [
    "import matplotlib.pyplot as plt\n",
    "import numpy as np\n",
    "\n",
    "from scipy.optimize import minimize\n",
    "%matplotlib inline"
   ]
  },
  {
   "cell_type": "code",
   "execution_count": 27,
   "metadata": {},
   "outputs": [
    {
     "data": {
      "text/plain": [
       "2"
      ]
     },
     "execution_count": 27,
     "metadata": {},
     "output_type": "execute_result"
    }
   ],
   "source": [
    "ratings = np.array([[ 4,  4,  9,  4,  1,  6, 10,  7,  9,  6,  9,  2,  8,  6,  6],\n",
    "                     [ 9,  2,  5, 10,  7,  8, 10,  5,  6,  2,  1,  6,  8,  9,  7],\n",
    "                     [ 1,  6,  8,  8,  4,  9,  3,  8, 10,  5,  2,  6,  8,  1,  6],\n",
    "                     [ 6,  1,  9,  7,  7,  9,  2,  3,  5,  1,  6,  6,  3,  2,  7],\n",
    "                     [ 3,  7,  3,  5,  7,  9,  9,  6,  2,  9,  1,  2,  8, 10,  6],\n",
    "                     [ 8,  3,  7,  3,  8,  6,  1,  8,  8,  6,  1,  9,  4, 10,  1],\n",
    "                     [ 9,  8,  4,  8,  8, 10,  6,  1,  1,  2,  9,  5,  2,  7,  2],\n",
    "                     [ 4,  1,  6,  4,  3, 10,  4,  4,  2,  8,  7,  9,  3,  8,  3],\n",
    "                     [ 2,  7,  7,  6, 10,  6,  8,  9,  8,  6, 10,  1,  7, 10,  4],\n",
    "                     [ 5, 10,  8,  8,  9,  7,  2,  9,  9, 10,  8,  8,  8,  6, 10]])\n"
   ]
  },
  {
   "cell_type": "code",
   "execution_count": 4,
   "metadata": {},
   "outputs": [],
   "source": [
    "from sklearn.metrics import pairwise_distances"
   ]
  },
  {
   "cell_type": "code",
   "execution_count": 39,
   "metadata": {},
   "outputs": [
    {
     "data": {
      "text/plain": [
       "array([[ 0.        , 15.49193338, 13.78404875, 15.96871942, 15.23154621,\n",
       "        18.        , 18.46618531, 15.06651917, 11.5758369 , 16.        ],\n",
       "       [15.49193338,  0.        , 15.87450787, 14.31782106, 13.26649916,\n",
       "        15.23154621, 15.26433752, 16.09347694, 16.24807681, 17.94435844],\n",
       "       [13.78404875, 15.87450787,  0.        , 13.07669683, 16.30950643,\n",
       "        15.8113883 , 19.67231557, 16.21727474, 16.0623784 , 13.03840481],\n",
       "       [15.96871942, 14.31782106, 13.07669683,  0.        , 18.62793601,\n",
       "        15.26433752, 13.56465997, 12.80624847, 17.63519209, 16.82260384],\n",
       "       [15.23154621, 13.26649916, 16.30950643, 18.62793601,  0.        ,\n",
       "        16.55294536, 16.34013464, 14.73091986, 13.34166406, 16.73320053],\n",
       "       [18.        , 15.23154621, 15.8113883 , 15.26433752, 16.55294536,\n",
       "         0.        , 17.57839583, 13.15294644, 16.673332  , 16.37070554],\n",
       "       [18.46618531, 15.26433752, 19.67231557, 13.56465997, 16.34013464,\n",
       "        17.57839583,  0.        , 13.85640646, 16.46207763, 19.10497317],\n",
       "       [15.06651917, 16.09347694, 16.21727474, 12.80624847, 14.73091986,\n",
       "        13.15294644, 13.85640646,  0.        , 16.88194302, 17.57839583],\n",
       "       [11.5758369 , 16.24807681, 16.0623784 , 17.63519209, 13.34166406,\n",
       "        16.673332  , 16.46207763, 16.88194302,  0.        , 13.56465997],\n",
       "       [16.        , 17.94435844, 13.03840481, 16.82260384, 16.73320053,\n",
       "        16.37070554, 19.10497317, 17.57839583, 13.56465997,  0.        ]])"
      ]
     },
     "execution_count": 39,
     "metadata": {},
     "output_type": "execute_result"
    }
   ],
   "source": [
    "k = pairwise_distances(ratings)\n",
    "k"
   ]
  },
  {
   "cell_type": "code",
   "execution_count": 108,
   "metadata": {},
   "outputs": [
    {
     "name": "stdout",
     "output_type": "stream",
     "text": [
      "1 9\n",
      "2 5\n",
      "3 10\n",
      "4 8\n",
      "5 2\n",
      "6 8\n",
      "7 4\n",
      "8 4\n",
      "9 1\n",
      "10 3\n"
     ]
    }
   ],
   "source": [
    "'a) Необходимо найти наиболее похожего пользователя по косинусной метрике'\n",
    "'для каждого из (ответ: 10 пар вида (x, y), где y - наиболее похожий пользователь на пользователя x).'\n",
    "\n",
    "for i in range (len(k)):\n",
    "    print(i+1, np.asarray(np.where(k[i,] == np.partition(k[i,],1)[1])[0])[0]+1)"
   ]
  },
  {
   "cell_type": "code",
   "execution_count": 113,
   "metadata": {},
   "outputs": [],
   "source": [
    "'b) Предположим, вы захотели сжать признаковые описания пользователя с'\n",
    "'15 фильмов, до, скажем, 5-ти признаков, как вы это сделаете?'\n",
    "\n",
    "from sklearn.decomposition import PCA"
   ]
  },
  {
   "cell_type": "code",
   "execution_count": 114,
   "metadata": {},
   "outputs": [
    {
     "data": {
      "text/plain": [
       "array([[-5.30986101,  1.92919845, -4.93300027,  2.70188013,  5.50497886],\n",
       "       [ 2.87763403,  2.71659559,  1.40592782,  7.26325751, -4.50322291],\n",
       "       [-4.94010408, -6.68861167, -0.94550184,  3.61556661, -0.68969272],\n",
       "       [ 5.14939908, -6.28027284, -4.65978558,  1.09024004, -1.01471112],\n",
       "       [-1.37488691,  7.54357985,  4.00834369,  2.1284001 , -0.16324949],\n",
       "       [ 2.65341956, -3.77075601,  8.58430748, -1.46628319,  1.67401769],\n",
       "       [ 8.61573944,  3.78603335, -4.02721027, -4.37582577, -3.13880277],\n",
       "       [ 5.39658258, -1.0170466 ,  1.01456742, -1.89512837,  6.54883538],\n",
       "       [-5.7843488 ,  5.29857107, -1.48083611, -3.71295542,  0.21312695],\n",
       "       [-7.2835739 , -3.51729118,  1.03318766, -5.34915166, -4.43127987]])"
      ]
     },
     "execution_count": 114,
     "metadata": {},
     "output_type": "execute_result"
    }
   ],
   "source": [
    "pca = PCA(n_components=5)\n",
    "pca.fit(ratings)\n",
    "ratings_lowfi = pca.transform(ratings)\n",
    "ratings_lowfi"
   ]
  },
  {
   "cell_type": "markdown",
   "metadata": {},
   "source": [
    "## Задание 2\n",
    "\n",
    "Вычислите производную $tg^2(sin(x) + cos(2x+3))$ в точке $x_0=1$ (на python и на бумаге).\n"
   ]
  },
  {
   "cell_type": "code",
   "execution_count": null,
   "metadata": {},
   "outputs": [],
   "source": [
    "\n",
    "from scipy import *\n",
    "from scipy.misc import derivative"
   ]
  },
  {
   "cell_type": "code",
   "execution_count": 136,
   "metadata": {},
   "outputs": [],
   "source": [
    "def f(x):\n",
    "    return tan(sin(x)+cos(2*x+3))**2"
   ]
  },
  {
   "cell_type": "code",
   "execution_count": 138,
   "metadata": {},
   "outputs": [
    {
     "data": {
      "text/plain": [
       "55.3859176464222"
      ]
     },
     "execution_count": 138,
     "metadata": {},
     "output_type": "execute_result"
    }
   ],
   "source": [
    "derivative(f,1,1e-6)"
   ]
  },
  {
   "cell_type": "code",
   "execution_count": 139,
   "metadata": {},
   "outputs": [],
   "source": [
    "from sympy import *\n",
    "\n",
    "x = symbols('x')"
   ]
  },
  {
   "cell_type": "code",
   "execution_count": 147,
   "metadata": {},
   "outputs": [
    {
     "data": {
      "text/plain": [
       "55.385917635337854"
      ]
     },
     "execution_count": 147,
     "metadata": {},
     "output_type": "execute_result"
    }
   ],
   "source": [
    "f1 = diff(f(x),x)\n",
    "f1 = lambdify(x, f1)\n",
    "f1(1)"
   ]
  },
  {
   "cell_type": "markdown",
   "metadata": {},
   "source": [
    "## Задание 3\n",
    "\n",
    "Дана функция с неизвестными параметрами a и b, вам также известны значения функции fx в точках x. Найдите оптимальные параметры a, b, минимизирующие абсолютную ошибку error."
   ]
  },
  {
   "cell_type": "code",
   "execution_count": 148,
   "metadata": {},
   "outputs": [],
   "source": [
    "def f(x, a, b):\n",
    "    return np.e**a * np.sin(b*x) + x"
   ]
  },
  {
   "cell_type": "code",
   "execution_count": 149,
   "metadata": {},
   "outputs": [],
   "source": [
    "x = np.array([0.        , 0.26315789, 0.52631579, 0.78947368, 1.05263158,\n",
    "              1.31578947, 1.57894737, 1.84210526, 2.10526316, 2.36842105,\n",
    "              2.63157895, 2.89473684, 3.15789474, 3.42105263, 3.68421053,\n",
    "              3.94736842, 4.21052632, 4.47368421, 4.73684211, 5.        ])"
   ]
  },
  {
   "cell_type": "code",
   "execution_count": 150,
   "metadata": {},
   "outputs": [],
   "source": [
    "fx = np.array([  0.        , -12.01819092, -18.90968634, -17.68786571,\n",
    "                -8.7529108 ,   4.27524517,  16.06801336,  21.81250213,\n",
    "                19.22059845,   9.48411207,  -3.22273056, -13.48576488,\n",
    "               -16.91096359, -11.95866834,  -0.58630088,  12.56873816,\n",
    "                22.12489421,  24.20292139,  18.04522521,   6.33211092])"
   ]
  },
  {
   "cell_type": "code",
   "execution_count": 152,
   "metadata": {},
   "outputs": [
    {
     "data": {
      "image/png": "[encoded data removed]",
      "text/plain": [
       "<Figure size 432x288 with 1 Axes>"
      ]
     },
     "metadata": {
      "needs_background": "light"
     },
     "output_type": "display_data"
    }
   ],
   "source": [
    "plt.plot(x, fx)\n",
    "plt.show()"
   ]
  },
  {
   "cell_type": "code",
   "execution_count": 153,
   "metadata": {},
   "outputs": [],
   "source": [
    "def error(params):\n",
    "    return np.sum(np.abs(fx - f(x, params[0], params[1])))"
   ]
  },
  {
   "cell_type": "code",
   "execution_count": 154,
   "metadata": {},
   "outputs": [],
   "source": [
    "from scipy.optimize import minimize"
   ]
  },
  {
   "cell_type": "code",
   "execution_count": 162,
   "metadata": {},
   "outputs": [
    {
     "data": {
      "text/plain": [
       " final_simplex: (array([[ 3.        , 21.37610417],\n",
       "       [ 3.00000001, 21.37610417],\n",
       "       [ 3.        , 21.37610417]]), array([1.71079947e-06, 1.80786234e-06, 2.69554052e-06]))\n",
       "           fun: 1.7107994723097875e-06\n",
       "       message: 'Optimization terminated successfully.'\n",
       "          nfev: 161\n",
       "           nit: 80\n",
       "        status: 0\n",
       "       success: True\n",
       "             x: array([ 3.        , 21.37610417])"
      ]
     },
     "execution_count": 162,
     "metadata": {},
     "output_type": "execute_result"
    }
   ],
   "source": [
    "params = [10,10]\n",
    "res = minimize(error, params, method='Nelder-Mead', tol=1e-6)\n",
    "res"
   ]
  },
  {
   "cell_type": "code",
   "execution_count": 170,
   "metadata": {},
   "outputs": [
    {
     "data": {
      "image/png": "[encoded data removed]",
      "text/plain": [
       "<Figure size 432x288 with 1 Axes>"
      ]
     },
     "metadata": {
      "needs_background": "light"
     },
     "output_type": "display_data"
    }
   ],
   "source": [
    "k = np.linspace(0,5,20)\n",
    "y = []\n",
    "for i in range(len(k)):\n",
    "    y.append(np.e**res.x[0] * np.sin(res.x[1]*k[i]) + k[i])\n",
    "\n",
    "plt.plot(k, y)\n",
    "plt.show()"
   ]
  },
  {
   "cell_type": "markdown",
   "metadata": {},
   "source": [
    "## Задание 4\n",
    "\n",
    "Создайте собственную дискретную случайную величину с 20 значениями. Сгенерируйте 1000 выборок размера 50. Посчитайте среднее для каждой выборки. Постройте гистограмму распределения средних."
   ]
  },
  {
   "cell_type": "code",
   "execution_count": 175,
   "metadata": {},
   "outputs": [
    {
     "data": {
      "text/plain": [
       "array([69, 55, 31, 49, 45, 86, 90,  0, 26, 82, 87, 92, 42, 57, 33, 90, 23,\n",
       "       42,  6, 15])"
      ]
     },
     "execution_count": 175,
     "metadata": {},
     "output_type": "execute_result"
    }
   ],
   "source": [
    "x = np.random.randint(0,100,20)\n",
    "x"
   ]
  },
  {
   "cell_type": "code",
   "execution_count": 186,
   "metadata": {},
   "outputs": [],
   "source": [
    "y = []\n",
    "for i in range (0,1000):\n",
    "    y.append(np.mean(np.random.choice(x,50)))\n"
   ]
  },
  {
   "cell_type": "code",
   "execution_count": 189,
   "metadata": {},
   "outputs": [
    {
     "data": {
      "text/plain": [
       "(array([  3.,  12.,  55., 112., 230., 258., 196.,  88.,  36.,  10.]),\n",
       " array([36.68 , 39.338, 41.996, 44.654, 47.312, 49.97 , 52.628, 55.286,\n",
       "        57.944, 60.602, 63.26 ]),\n",
       " <a list of 10 Patch objects>)"
      ]
     },
     "execution_count": 189,
     "metadata": {},
     "output_type": "execute_result"
    },
    {
     "data": {
      "image/png": "[encoded data removed]",
      "text/plain": [
       "<Figure size 432x288 with 1 Axes>"
      ]
     },
     "metadata": {
      "needs_background": "light"
     },
     "output_type": "display_data"
    }
   ],
   "source": [
    "plt.hist(y)"
   ]
  },
  {
   "cell_type": "markdown",
   "metadata": {},
   "source": [
    "## Задание 5\n",
    "\n",
    "Найдите собственные значения и собственные вектора матрицы (на python и на бумаге):"
   ]
  },
  {
   "cell_type": "code",
   "execution_count": 190,
   "metadata": {},
   "outputs": [],
   "source": [
    "m = np.array([[1, 4],\n",
    "              [1, 1]])"
   ]
  },
  {
   "cell_type": "code",
   "execution_count": 191,
   "metadata": {},
   "outputs": [
    {
     "name": "stdout",
     "output_type": "stream",
     "text": [
      "Eigenvalues:\n",
      "[ 3. -1.]\n",
      "\n",
      "Eigenvectors:\n",
      "[[ 0.89442719 -0.89442719]\n",
      " [ 0.4472136   0.4472136 ]]\n"
     ]
    }
   ],
   "source": [
    "a, U = np.linalg.eig(m)\n",
    "print('Eigenvalues:')\n",
    "print(np.array(a, dtype=float))\n",
    "print('\\nEigenvectors:')\n",
    "print(U)"
   ]
  }
 ],
 "metadata": {
  "kernelspec": {
   "display_name": "Python 3",
   "language": "python",
   "name": "python3"
  },
  "language_info": {
   "codemirror_mode": {
    "name": "ipython",
    "version": 3
   },
   "file_extension": ".py",
   "mimetype": "text/x-python",
   "name": "python",
   "nbconvert_exporter": "python",
   "pygments_lexer": "ipython3",
   "version": "3.7.3"
  }
 },
 "nbformat": 4,
 "nbformat_minor": 2
}
